{
 "cells": [
  {
   "cell_type": "code",
   "execution_count": null,
   "metadata": {
    "collapsed": true
   },
   "outputs": [],
   "source": [
    "from xBFreEana.API.components import xBFreEAPI"
   ]
  },
  {
   "cell_type": "code",
   "execution_count": null,
   "outputs": [],
   "source": [
    "api = xBFreEAPI()\n",
    "api.load_files('/home/mario/Documents/xBFreE_test/1.x.x/examples/gmx_example/COMPACT_RESULTS_MMPBSA.xbfree')\n",
    "print(api.systems)\n",
    "print(api.systems[0]['mmpbsa']['enthalpy'][:, ['gb', 'gbnsr6'], 'delta'])"
   ],
   "metadata": {
    "collapsed": false
   }
  },
  {
   "cell_type": "markdown",
   "source": [
    "## TODO\n",
    "\n",
    "at system level\n",
    "- subsystems\n",
    "\t- compare subsystems\n",
    "    - select subsystems\n",
    "    - select subsystem\n",
    "\n"
   ],
   "metadata": {
    "collapsed": false
   }
  }
 ],
 "metadata": {
  "kernelspec": {
   "display_name": "Python 3",
   "language": "python",
   "name": "python3"
  },
  "language_info": {
   "codemirror_mode": {
    "name": "ipython",
    "version": 2
   },
   "file_extension": ".py",
   "mimetype": "text/x-python",
   "name": "python",
   "nbconvert_exporter": "python",
   "pygments_lexer": "ipython2",
   "version": "2.7.6"
  }
 },
 "nbformat": 4,
 "nbformat_minor": 0
}
